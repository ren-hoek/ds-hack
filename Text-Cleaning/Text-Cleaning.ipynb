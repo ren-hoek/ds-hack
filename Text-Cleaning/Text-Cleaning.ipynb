{
 "cells": [
  {
   "cell_type": "code",
   "execution_count": 25,
   "metadata": {},
   "outputs": [
    {
     "name": "stdout",
     "output_type": "stream",
     "text": [
      "mongodb://cosmo-feynman:4rDaE4LwLhwtwKCRIID7BV42Dpz9JOcj3H8kTDUqDmDbkmJiW4HqcGmktibeGWdAkFE5ZE8bQPvR1EncGLSiGA==@cosmo-feynman.documents.azure.com:10255/?ssl=true&replicaSet=globaldb\n"
     ]
    }
   ],
   "source": [
    "import pymongo as py\n",
    "from collections import defaultdict\n",
    "import json\n",
    "MONGO_URI = \"XXXX\"\n",
    "\n",
    "print(MONGO_URI)"
   ]
  },
  {
   "cell_type": "code",
   "execution_count": 33,
   "metadata": {
    "scrolled": true
   },
   "outputs": [
    {
     "data": {
      "text/plain": [
       "<spacy.lang.en.English at 0x1ff82826e48>"
      ]
     },
     "execution_count": 33,
     "metadata": {},
     "output_type": "execute_result"
    }
   ],
   "source": [
    "import spacy\n",
    "spacy.load('en')"
   ]
  },
  {
   "cell_type": "code",
   "execution_count": 18,
   "metadata": {},
   "outputs": [],
   "source": [
    "import re\n",
    "accounts_file = open('C:/Users/alist/Test Texts/test01.txt', encoding='utf-8')\n",
    "accounts_txt = accounts_file.read()\n",
    "accounts_txt = re.sub(r'\\n', ' ', accounts_txt)\n"
   ]
  },
  {
   "cell_type": "code",
   "execution_count": 55,
   "metadata": {},
   "outputs": [],
   "source": [
    "def text_cleaner(text):\n",
    "    \n",
    "    \"\"\"Lemmatizes tokens and removes stop words, punctuation, and numbers. Identifies named entities. \n",
    "    Returns a dictionary of lists keyed on tokens and different types of named entities keyed in the form\n",
    "    'Named Entity - ORG', see spacy docs for the list of entity types  \n",
    "    \n",
    "    Arguments:\n",
    "    text - raw text to tokenize may need to run re.sub(r'\\n', ' ', text) to clean up\n",
    "    \n",
    "    \"\"\"\n",
    "    \n",
    "    #load the text into spacy to tag\n",
    "    nlp = spacy.load('en', tagger=False, parser=False, matcher=False)\n",
    "    doc = nlp(text)\n",
    "    \n",
    "    #TODO - break up the text by page or paragraph using repeat newlines?\n",
    "    \n",
    "    #setup output as a default dictionary of lists\n",
    "    out_dict = defaultdict(list)\n",
    "    \n",
    "    #populate the tokes slot removing spaces, numbers and punctuation etc.\n",
    "    out_dict['tokens'] = [ t.lemma_ for t in doc if not (t.is_stop or t.pos_ in [\"PUNCT\", \"SPACE\", \"NUM\"] or t.text == \"\\ufeff\") ]\n",
    "\n",
    "    #populate the named entity slots first removing any entities that are just whitespace\n",
    "    doc.ents = [e for e in doc.ents if not e.text.isspace()]\n",
    "    for ent in doc.ents:\n",
    "        out_dict['Named Entity - '+ ent.label_].append(ent.text.strip())\n",
    "\n",
    "    return out_dict \n",
    "\n",
    "\n",
    "out_dict = text_cleaner(accounts_txt)\n",
    "\n",
    "#print(out_dict)\n",
    "\n",
    "#for t in out_dict['tokens']:\n",
    "#    print(t)\n"
   ]
  },
  {
   "cell_type": "code",
   "execution_count": 53,
   "metadata": {
    "scrolled": true
   },
   "outputs": [
    {
     "name": "stdout",
     "output_type": "stream",
     "text": [
      "{'_id': ObjectId('5acdba86d4c21fc0812bf81e'), 'submit_date': '2015-05-31', 'doctype': 'accounts', 'company_number': '00363381', 'filetype': 'xhtml', 'name': '00363381_accounts_2015-05-31', 'azure_folder': 'xhtml', 'container': 'companieshouseapi', 'filename': '00363381_accounts_2015-05-31.xhtml', 'blob_file': 'xhtml/00363381_accounts_2015-05-31.xhtml', 'tokens': ['registered', 'number', 'england', 'wales', 'abbreviated', 'unaudited', 'accounts', 'year', 'ended', '31st', 'may', 'whitehouse', '&', 'hartley', 'limited', 'whitehouse', '&', 'hartley', 'limited', 'registered', 'number', 'contents', 'abbreviated', 'accounts', 'year', 'end', '31st', 'may', 'page', 'company', 'information', 'abbreviated', 'balance', 'sheet', 'notes', 'abbreviated', 'accounts', 'whitehouse', '&', 'hartley', 'limited', 'company', 'information', 'year', 'end', '31st', 'may', 'directors', 'a', 'j', 'power', 'mrs', 'p', 'p', 'power', 'secretary', 'a', 'j', 'power', 'registered', 'office', 'arbor', 'house', 'broadway', 'north', 'walsall', 'west', 'midlands', 'ws1', '2an', 'register', 'number', 'england', 'wales', 'accountant', 'bakers', 'the', 'practising', 'baker', 'midlands', 'limited', 'arbor', 'house', 'broadway', 'north', 'walsall', 'ws1', '2an', 'page', 'whitehouse', '&', 'hartley', 'limited', 'registered', 'number', 'abbreviated', 'balance', 'sheet', '31st', 'may', 'notes', '£', '£', 'current', 'assets', 'debtors', 'creditors', 'amount', 'fall', 'year', 'net', 'current', 'assets', 'total', 'assets', 'less', 'current', 'liability', 'capital', 'and', 'reserves', 'call', 'share', 'capital', 'other', 'reserve', 'profit', 'loss', 'account', 'shareholder', \"'\", 'fund', 'the', 'company', 'entitle', 'exemption', 'audit', 'section', 'companies', 'act', 'year', 'end', '31st', 'may', 'the', 'member', 'require', 'company', 'obtain', 'audit', 'financial', 'statement', 'year', 'end', '31st', 'may', 'accordance', 'section', 'companies', 'act', 'the', 'director', 'acknowledge', 'responsibility', 'ensure', 'company', 'keep', 'accounting', 'record', 'comply', 'sections', 'companies', 'act', 'prepare', 'financial', 'statement', 'true', 'fair', 'view', 'state', 'affair', 'company', 'end', 'financial', 'year', 'profit', 'loss', 'financial', 'year', 'accordance', 'requirement', 'sections', 'comply', 'requirement', 'companies', 'act', 'relate', 'financial', 'statement', 'far', 'applicable', 'company', 'the', 'abbreviate', 'account', 'prepare', 'accordance', 'special', 'provision', 'part', 'companies', 'act', 'relate', 'small', 'company', 'the', 'financial', 'statement', 'approve', 'board', 'directors', '24th', 'february', 'sign', 'behalf', 'mrs', 'p', 'p', 'power', 'director', 'a', 'j', 'power', 'director', 'the', 'note', 'form', 'abbreviate', 'account', 'page', 'whitehouse', '&', 'hartley', 'limited', 'registered', 'number', 'note', 'abbreviated', 'accounts', 'year', 'end', '31st', 'may', 'accounting', 'policy', 'accounting', 'convention', 'the', 'financial', 'statement', 'prepare', 'historical', 'cost', 'convention', 'accordance', 'financial', 'reporting', 'standard', 'smaller', 'entities', 'effective', 'april', 'the', 'company', 'dormant', 'current', 'year', 'previous', 'year', 'call', 'up', 'share', 'capital', 'allot', 'issue', 'fully', 'pay', 'number', 'class', 'nominal', 'value', '£', '£', 'ordinary', 'share', '£', 'preference', 'share', '£', 'page']}\n"
     ]
    }
   ],
   "source": [
    "client = py.MongoClient(MONGO_URI)\n",
    "db = client.ch\n",
    "\n",
    "for f in db.docs.find({'filename' : '00363381_accounts_2015-05-31.xhtml'}):\n",
    "    db.docs.update_one({'_id': f['_id']},\n",
    "                   {'$set': out_dict })\n"
   ]
  },
  {
   "cell_type": "code",
   "execution_count": 54,
   "metadata": {
    "scrolled": true
   },
   "outputs": [
    {
     "name": "stdout",
     "output_type": "stream",
     "text": [
      "{'_id': ObjectId('5acdba86d4c21fc0812bf81e'), 'submit_date': '2015-05-31', 'doctype': 'accounts', 'company_number': '00363381', 'filetype': 'xhtml', 'name': '00363381_accounts_2015-05-31', 'azure_folder': 'xhtml', 'container': 'companieshouseapi', 'filename': '00363381_accounts_2015-05-31.xhtml', 'blob_file': 'xhtml/00363381_accounts_2015-05-31.xhtml', 'tokens': ['registered', 'number', 'england', 'wales', 'abbreviated', 'unaudited', 'accounts', 'year', 'ended', '31st', 'may', 'whitehouse', '&', 'hartley', 'limited', 'whitehouse', '&', 'hartley', 'limited', 'registered', 'number', 'contents', 'abbreviated', 'accounts', 'year', 'end', '31st', 'may', 'page', 'company', 'information', 'abbreviated', 'balance', 'sheet', 'notes', 'abbreviated', 'accounts', 'whitehouse', '&', 'hartley', 'limited', 'company', 'information', 'year', 'end', '31st', 'may', 'directors', 'a', 'j', 'power', 'mrs', 'p', 'p', 'power', 'secretary', 'a', 'j', 'power', 'registered', 'office', 'arbor', 'house', 'broadway', 'north', 'walsall', 'west', 'midlands', 'ws1', '2an', 'register', 'number', 'england', 'wales', 'accountant', 'bakers', 'the', 'practising', 'baker', 'midlands', 'limited', 'arbor', 'house', 'broadway', 'north', 'walsall', 'ws1', '2an', 'page', 'whitehouse', '&', 'hartley', 'limited', 'registered', 'number', 'abbreviated', 'balance', 'sheet', '31st', 'may', 'notes', '£', '£', 'current', 'assets', 'debtors', 'creditors', 'amount', 'fall', 'year', 'net', 'current', 'assets', 'total', 'assets', 'less', 'current', 'liability', 'capital', 'and', 'reserves', 'call', 'share', 'capital', 'other', 'reserve', 'profit', 'loss', 'account', 'shareholder', \"'\", 'fund', 'the', 'company', 'entitle', 'exemption', 'audit', 'section', 'companies', 'act', 'year', 'end', '31st', 'may', 'the', 'member', 'require', 'company', 'obtain', 'audit', 'financial', 'statement', 'year', 'end', '31st', 'may', 'accordance', 'section', 'companies', 'act', 'the', 'director', 'acknowledge', 'responsibility', 'ensure', 'company', 'keep', 'accounting', 'record', 'comply', 'sections', 'companies', 'act', 'prepare', 'financial', 'statement', 'true', 'fair', 'view', 'state', 'affair', 'company', 'end', 'financial', 'year', 'profit', 'loss', 'financial', 'year', 'accordance', 'requirement', 'sections', 'comply', 'requirement', 'companies', 'act', 'relate', 'financial', 'statement', 'far', 'applicable', 'company', 'the', 'abbreviate', 'account', 'prepare', 'accordance', 'special', 'provision', 'part', 'companies', 'act', 'relate', 'small', 'company', 'the', 'financial', 'statement', 'approve', 'board', 'directors', '24th', 'february', 'sign', 'behalf', 'mrs', 'p', 'p', 'power', 'director', 'a', 'j', 'power', 'director', 'the', 'note', 'form', 'abbreviate', 'account', 'page', 'whitehouse', '&', 'hartley', 'limited', 'registered', 'number', 'note', 'abbreviated', 'accounts', 'year', 'end', '31st', 'may', 'accounting', 'policy', 'accounting', 'convention', 'the', 'financial', 'statement', 'prepare', 'historical', 'cost', 'convention', 'accordance', 'financial', 'reporting', 'standard', 'smaller', 'entities', 'effective', 'april', 'the', 'company', 'dormant', 'current', 'year', 'previous', 'year', 'call', 'up', 'share', 'capital', 'allot', 'issue', 'fully', 'pay', 'number', 'class', 'nominal', 'value', '£', '£', 'ordinary', 'share', '£', 'preference', 'share', '£', 'page'], 'Named Entity - PERSON': ['\\ufeff       REGISTERED NUMBER', 'Baker', 'Arbor House', 'CAPITAL', 'RESERVES', 'Number', 'Page 3'], 'Named Entity - ORG': ['00363381  (England and Wales)', 'WHITEHOUSE & HARTLEY LIMITED          WHITEHOUSE & HARTLEY LIMITED', 'WHITEHOUSE & HARTLEY LIMITED    Company Information', 'J Power', 'Midlands) Limited', 'WHITEHOUSE & HARTLEY LIMITED', 'CURRENT LIABILITIES', 'Sections 394', 'the Companies Act 2006', 'the Board of Directors', 'Mrs P P Power', 'J Power', 'Page 2', 'WHITEHOUSE & HARTLEY LIMITED', 'Smaller Entities', 'UP SHARE CAPITAL     Allotted'], 'Named Entity - DATE': ['the Year Ended 31st', 'the year ended 31st', 'May 2015', 'the year ended 31st May 2015', 'May 2015', '2014', 'one year', '2006', 'the year ended 31st May 2015', 'the year ended 31st May 2015', '2006', '2006', 'each financial year', 'each financial year', '24th February 2016', 'the year ended 31st May 2015', 'April 2008', 'the current year', 'previous year'], 'Named Entity - CARDINAL': ['00363381', '2', '3', '00363381', '1', '00363381', '44,599 44,599', '44,347', '44,347', '2', '11,713', '11,713', '2,688 2,688', '29,946', '44,347', '386', '387', '395', '15', '00363381', '1', '2', '799', '799', '10,914', '10,914 10,914', '11,713', '11,713'], 'Named Entity - PRODUCT': ['Notes', 'J Power', 'Notes'], 'Named Entity - FAC': ['REGISTERED NUMBER:', 'Broadway'], 'Named Entity - GPE': ['England', 'Wales', 'Preference'], 'Named Entity - MONEY': ['252 252', '1', '1'], 'Named Entity - PERCENT': ['44,347 44,347'], 'Named Entity - LAW': ['Section 477 of the Companies Act', 'Section 476 of the Companies Act', 'the Companies   Act'], 'Named Entity - EVENT': ['the Companies Act 2006']}\n"
     ]
    }
   ],
   "source": [
    "db = client.ch\n",
    "print(db.docs.find_one({'filename' : '00363381_accounts_2015-05-31.xhtml'}))"
   ]
  },
  {
   "cell_type": "code",
   "execution_count": null,
   "metadata": {},
   "outputs": [],
   "source": [
    "def main():\n",
    "    \"\"\"Requires the mongodb connection string as an arguement\"\"\"\n",
    "    MONGO_URI = sys.argv[1]\n",
    "    \n",
    "    spacy.load('en')\n",
    "    client = py.MongoClient(MONGO_URI)\n",
    "    db = client.ch\n",
    "    out_dict = text_cleaner(accounts_txt)\n",
    "    \n",
    "    for f in db.docs.find({'filename' : '00363381_accounts_2015-05-31.xhtml'}):\n",
    "        db.docs.update_one({'_id': f['_id']},\n",
    "                           {'$set': out_dict })"
   ]
  },
  {
   "cell_type": "code",
   "execution_count": 66,
   "metadata": {},
   "outputs": [
    {
     "name": "stdout",
     "output_type": "stream",
     "text": [
      "WS1 2AN\n",
      "WS1 2AN\n",
      "{'WS1 2AN'}\n"
     ]
    }
   ],
   "source": [
    "import re\n",
    "postcode_regex = \"([Gg][Ii][Rr] 0[Aa]{2})|((([A-Za-z][0-9]{1,2})|(([A-Za-z][A-Ha-hJ-Yj-y][0-9]{1,2})|(([A-Za-z][0-9][A-Za-z])|([A-Za-z][A-Ha-hJ-Yj-y][0-9]?[A-Za-z]))))\\s?[0-9][A-Za-z]{2})\"\n",
    "p = re.compile(postcode_regex)\n",
    "\n",
    "for f in p.finditer(accounts_txt):\n",
    "    print(f.group(0))\n",
    "\n",
    "pcodes = [f.group(0) for f in p.finditer(accounts_txt)]\n",
    "print(set(pcodes))"
   ]
  },
  {
   "cell_type": "code",
   "execution_count": 19,
   "metadata": {},
   "outputs": [
    {
     "name": "stdout",
     "output_type": "stream",
     "text": [
      "WS1 2AN\n",
      "WS1 2AN\n",
      "{\"coordinates\": [[-1.97400818160824, 52.5884254864852]], \"type\": \"MultiPoint\"}\n"
     ]
    }
   ],
   "source": [
    "import requests\n",
    "import json\n",
    "import re\n",
    "from geojson import Point, Feature, FeatureCollection\n",
    "\n",
    "\n",
    "def geocoder (pcodes):\n",
    "    \"\"\"Geocodes a list of postcodes to produce a MultiPoint geojson object\"\"\"\n",
    "    \n",
    "    headers = {\"Content-Type\": \"application/json\"}\n",
    "    url = \"https://api.postcodes.io/postcodes?filter=postcode,longitude,latitude\"\n",
    "\n",
    "    pc_data = { 'postcodes' : list(set(pcodes)) }\n",
    "\n",
    "    response = requests.post(url, data=json.dumps(pc_data), headers=headers)\n",
    "    resp_obj = json.loads(response.text)\n",
    "\n",
    "\n",
    "    #for a featurecollection - would be ideal but not sure it works well with mongo\n",
    "    \"\"\"fc = []\n",
    "\n",
    "    for r in [ ro['result'] for ro in resp_obj['result']]:\n",
    "        p = Point((r['longitude'], r['latitude']))\n",
    "        f = Feature(geometry=p, properties={\"postcode\": r['postcode']})\n",
    "        fc.append(f)\n",
    "\n",
    "    features = FeatureCollection(fc)\n",
    "    \"\"\"\n",
    "\n",
    "    #for a multipoint\n",
    "    ps = [ (ro['result']['longitude'],ro['result']['latitude']) for ro in resp_obj['result']]\n",
    "\n",
    "    mp = MultiPoint(ps)\n",
    "\n",
    "    #print(mp)\n",
    "    \n",
    "    return mp\n",
    "\n",
    "postcode_regex = \"([Gg][Ii][Rr] 0[Aa]{2})|((([A-Za-z][0-9]{1,2})|(([A-Za-z][A-Ha-hJ-Yj-y][0-9]{1,2})|(([A-Za-z][0-9][A-Za-z])|([A-Za-z][A-Ha-hJ-Yj-y][0-9]?[A-Za-z]))))\\s?[0-9][A-Za-z]{2})\"\n",
    "p = re.compile(postcode_regex)\n",
    "\n",
    "for f in p.finditer(accounts_txt):\n",
    "    print(f.group(0))\n",
    "\n",
    "pcodes = [f.group(0) for f in p.finditer(accounts_txt)]\n",
    "\n",
    "mp = geocoder(pcodes)\n"
   ]
  },
  {
   "cell_type": "code",
   "execution_count": 3,
   "metadata": {
    "scrolled": true
   },
   "outputs": [
    {
     "name": "stdout",
     "output_type": "stream",
     "text": [
      "[{'postcode': 'PR3 0SG', 'longitude': -2.74625456434894, 'latitude': 53.8566242029322}, {'postcode': 'EX16 5BL', 'longitude': -3.50192644641646, 'latitude': 50.9000683960022}, {'postcode': 'M45 6GN', 'longitude': -2.29705263978866, 'latitude': 53.550284089076}]\n"
     ]
    }
   ],
   "source": [
    "print([ ro['result'] for ro in resp_obj['result']])"
   ]
  },
  {
   "cell_type": "code",
   "execution_count": 12,
   "metadata": {},
   "outputs": [
    {
     "ename": "TypeError",
     "evalue": "'float' object is not iterable",
     "output_type": "error",
     "traceback": [
      "\u001b[1;31m---------------------------------------------------------------------------\u001b[0m",
      "\u001b[1;31mTypeError\u001b[0m                                 Traceback (most recent call last)",
      "\u001b[1;32m<ipython-input-12-d35c45e7dc1d>\u001b[0m in \u001b[0;36m<module>\u001b[1;34m()\u001b[0m\n\u001b[0;32m      1\u001b[0m \u001b[1;32mfrom\u001b[0m \u001b[0mgeojson\u001b[0m \u001b[1;32mimport\u001b[0m \u001b[0mPoint\u001b[0m\u001b[1;33m\u001b[0m\u001b[0m\n\u001b[1;32m----> 2\u001b[1;33m \u001b[0mPoint\u001b[0m\u001b[1;33m(\u001b[0m\u001b[1;33m-\u001b[0m\u001b[1;36m2.746\u001b[0m\u001b[1;33m,\u001b[0m\u001b[1;36m53.856\u001b[0m\u001b[1;33m)\u001b[0m\u001b[1;33m\u001b[0m\u001b[0m\n\u001b[0m",
      "\u001b[1;32m~\\Anaconda3\\lib\\site-packages\\geojson\\geometry.py\u001b[0m in \u001b[0;36m__init__\u001b[1;34m(self, coordinates, crs, validate, **extra)\u001b[0m\n\u001b[0;32m     28\u001b[0m \u001b[1;33m\u001b[0m\u001b[0m\n\u001b[0;32m     29\u001b[0m         \u001b[0msuper\u001b[0m\u001b[1;33m(\u001b[0m\u001b[0mGeometry\u001b[0m\u001b[1;33m,\u001b[0m \u001b[0mself\u001b[0m\u001b[1;33m)\u001b[0m\u001b[1;33m.\u001b[0m\u001b[0m__init__\u001b[0m\u001b[1;33m(\u001b[0m\u001b[1;33m**\u001b[0m\u001b[0mextra\u001b[0m\u001b[1;33m)\u001b[0m\u001b[1;33m\u001b[0m\u001b[0m\n\u001b[1;32m---> 30\u001b[1;33m         \u001b[0mself\u001b[0m\u001b[1;33m[\u001b[0m\u001b[1;34m\"coordinates\"\u001b[0m\u001b[1;33m]\u001b[0m \u001b[1;33m=\u001b[0m \u001b[0mself\u001b[0m\u001b[1;33m.\u001b[0m\u001b[0mclean_coordinates\u001b[0m\u001b[1;33m(\u001b[0m\u001b[0mcoordinates\u001b[0m \u001b[1;32mor\u001b[0m \u001b[1;33m[\u001b[0m\u001b[1;33m]\u001b[0m\u001b[1;33m)\u001b[0m\u001b[1;33m\u001b[0m\u001b[0m\n\u001b[0m\u001b[0;32m     31\u001b[0m \u001b[1;33m\u001b[0m\u001b[0m\n\u001b[0;32m     32\u001b[0m         \u001b[1;32mif\u001b[0m \u001b[0mvalidate\u001b[0m\u001b[1;33m:\u001b[0m\u001b[1;33m\u001b[0m\u001b[0m\n",
      "\u001b[1;32m~\\Anaconda3\\lib\\site-packages\\geojson\\geometry.py\u001b[0m in \u001b[0;36mclean_coordinates\u001b[1;34m(cls, coords)\u001b[0m\n\u001b[0;32m     45\u001b[0m         \u001b[1;32mif\u001b[0m \u001b[0misinstance\u001b[0m\u001b[1;33m(\u001b[0m\u001b[0mcoords\u001b[0m\u001b[1;33m,\u001b[0m \u001b[0mGeometry\u001b[0m\u001b[1;33m)\u001b[0m\u001b[1;33m:\u001b[0m\u001b[1;33m\u001b[0m\u001b[0m\n\u001b[0;32m     46\u001b[0m             \u001b[0mcoords\u001b[0m \u001b[1;33m=\u001b[0m \u001b[1;33m[\u001b[0m\u001b[0mcoords\u001b[0m\u001b[1;33m]\u001b[0m\u001b[1;33m\u001b[0m\u001b[0m\n\u001b[1;32m---> 47\u001b[1;33m         \u001b[1;32mfor\u001b[0m \u001b[0mcoord\u001b[0m \u001b[1;32min\u001b[0m \u001b[0mcoords\u001b[0m\u001b[1;33m:\u001b[0m\u001b[1;33m\u001b[0m\u001b[0m\n\u001b[0m\u001b[0;32m     48\u001b[0m             \u001b[1;32mif\u001b[0m \u001b[0misinstance\u001b[0m\u001b[1;33m(\u001b[0m\u001b[0mcoord\u001b[0m\u001b[1;33m,\u001b[0m \u001b[1;33m(\u001b[0m\u001b[0mlist\u001b[0m\u001b[1;33m,\u001b[0m \u001b[0mtuple\u001b[0m\u001b[1;33m)\u001b[0m\u001b[1;33m)\u001b[0m\u001b[1;33m:\u001b[0m\u001b[1;33m\u001b[0m\u001b[0m\n\u001b[0;32m     49\u001b[0m                 \u001b[0mnew_coords\u001b[0m\u001b[1;33m.\u001b[0m\u001b[0mappend\u001b[0m\u001b[1;33m(\u001b[0m\u001b[0mcls\u001b[0m\u001b[1;33m.\u001b[0m\u001b[0mclean_coordinates\u001b[0m\u001b[1;33m(\u001b[0m\u001b[0mcoord\u001b[0m\u001b[1;33m)\u001b[0m\u001b[1;33m)\u001b[0m\u001b[1;33m\u001b[0m\u001b[0m\n",
      "\u001b[1;31mTypeError\u001b[0m: 'float' object is not iterable"
     ]
    }
   ],
   "source": [
    "from geojson import Point\n",
    "Point(-2.746,53.856)"
   ]
  }
 ],
 "metadata": {
  "kernelspec": {
   "display_name": "Python 3",
   "language": "python",
   "name": "python3"
  },
  "language_info": {
   "codemirror_mode": {
    "name": "ipython",
    "version": 3
   },
   "file_extension": ".py",
   "mimetype": "text/x-python",
   "name": "python",
   "nbconvert_exporter": "python",
   "pygments_lexer": "ipython3",
   "version": "3.6.4"
  }
 },
 "nbformat": 4,
 "nbformat_minor": 2
}
