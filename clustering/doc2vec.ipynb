{
 "cells": [
  {
   "cell_type": "code",
   "execution_count": 1,
   "metadata": {
    "collapsed": true
   },
   "outputs": [],
   "source": [
    "### Imports ###\n",
    "import gensim\n",
    "from gensim.models.doc2vec import Doc2Vec, TaggedDocument\n",
    "from nltk.tokenize import word_tokenize\n",
    "from sklearn.cluster import KMeans\n",
    "import matplotlib.pyplot as plt\n",
    "from sklearn.decomposition import PCA"
   ]
  },
  {
   "cell_type": "code",
   "execution_count": 2,
   "metadata": {
    "collapsed": true
   },
   "outputs": [],
   "source": [
    "### Get nltk package if needed ###\n",
    "# import nltk\n",
    "# nltk.download()"
   ]
  },
  {
   "cell_type": "code",
   "execution_count": 3,
   "metadata": {},
   "outputs": [],
   "source": [
    "### Get test data (filename, content) ###\n",
    "import glob, os\n",
    "\n",
    "# Testing path\n",
    "inputPath = '/home/radlab/dev/bdec/test_data/inputs/cluster-sample'\n",
    "\n",
    "data = []\n",
    "\n",
    "# Loop through each filename ending with .txt in inputPath and open each one\n",
    "for filename in glob.glob(os.path.join(inputPath, '*.txt')):\n",
    "    \n",
    "    # Open the document\n",
    "    with open(filename, 'r') as f:\n",
    "        sample = f.read()\n",
    "        data.append((filename, sample))"
   ]
  },
  {
   "cell_type": "code",
   "execution_count": 4,
   "metadata": {},
   "outputs": [],
   "source": [
    "### Convert data to tagged format ###\n",
    "tagged_data = []\n",
    "\n",
    "for item in data:\n",
    "    tagged_data.append(TaggedDocument(words=word_tokenize(item[1].lower()), tags=[item[0]]))               \n",
    "# print(tagged_data)"
   ]
  },
  {
   "cell_type": "code",
   "execution_count": 5,
   "metadata": {},
   "outputs": [
    {
     "name": "stdout",
     "output_type": "stream",
     "text": [
      "Running...\n",
      "Doc2Vec Model Saved\n",
      "Word2Vec Model Saved\n"
     ]
    }
   ],
   "source": [
    "### Build Model ###\n",
    "max_epochs = 100\n",
    "vec_size = 20\n",
    "alpha = 0.025\n",
    "\n",
    "model = Doc2Vec(size=vec_size,\n",
    "                alpha=alpha, \n",
    "                min_alpha=0.025,\n",
    "                min_count=1,\n",
    "                dm=1)\n",
    "  \n",
    "model.build_vocab(tagged_data)\n",
    "\n",
    "print('Running...')\n",
    "\n",
    "for epoch in range(max_epochs):\n",
    "#     print('iteration {0}'.format(epoch))\n",
    "    model.train(tagged_data,\n",
    "                total_examples=model.corpus_count,\n",
    "                epochs=model.iter)\n",
    "    # decrease the learning rate\n",
    "    model.alpha -= 0.0002\n",
    "    # fix the learning rate, no decay\n",
    "    model.min_alpha = model.alpha\n",
    "\n",
    "model.save(\"d2v.model\")\n",
    "print(\"Doc2Vec Model Saved\")\n",
    "model.save_word2vec_format('w2v.model')\n",
    "print(\"Word2Vec Model Saved\")"
   ]
  },
  {
   "cell_type": "code",
   "execution_count": 6,
   "metadata": {},
   "outputs": [
    {
     "name": "stdout",
     "output_type": "stream",
     "text": [
      "V1_infer: [ 0.1989057  -0.8819796  -1.0719405  -0.5063573   0.5316818   1.3015736\n",
      " -0.4370191  -0.5022204   0.15925545  0.05586944  0.19131318  0.77389747\n",
      " -0.24434423 -0.13493896  0.07049572 -0.4196135   0.36839288 -0.36516294\n",
      " -0.7796003  -0.36168155]\n",
      "Similar: [('/home/radlab/dev/bdec/test_data/inputs/cluster-sample/jdm_annotate9_45_3.txt', 0.7585093975067139), ('/home/radlab/dev/bdec/test_data/inputs/cluster-sample/jdm_annotate9_45_1.txt', 0.7566635608673096), ('/home/radlab/dev/bdec/test_data/inputs/cluster-sample/jdm_annotate9_45_2.txt', 0.7562412023544312), ('/home/radlab/dev/bdec/test_data/inputs/cluster-sample/jdm_annotate6_32_3.txt', 0.7475979328155518), ('/home/radlab/dev/bdec/test_data/inputs/cluster-sample/jdm_annotate6_32_1.txt', 0.7474098205566406), ('/home/radlab/dev/bdec/test_data/inputs/cluster-sample/jdm_annotate6_32_2.txt', 0.7460781335830688), ('/home/radlab/dev/bdec/test_data/inputs/cluster-sample/jdm_annotate7_265_1.txt', 0.6949460506439209), ('/home/radlab/dev/bdec/test_data/inputs/cluster-sample/jdm_annotate7_265_3.txt', 0.6929917335510254), ('/home/radlab/dev/bdec/test_data/inputs/cluster-sample/jdm_annotate7_265_2.txt', 0.6877840757369995), ('/home/radlab/dev/bdec/test_data/inputs/cluster-sample/arxiv_annotate9_279_2.txt', 0.6864268183708191)]\n",
      "Doc 1 vec: [  7.0188923   -8.156885    -3.3412633   -3.0266702    3.6008396\n",
      "   0.34319162   1.2177088   -5.174289    11.560711    -7.3403788\n",
      "   0.21238169  14.478646    -5.9462543    3.7003083    1.9277561\n",
      " -13.995913     6.499589    -0.0340611   -9.046183     2.153113  ]\n"
     ]
    }
   ],
   "source": [
    "### Check Model Vectors ###\n",
    "model= Doc2Vec.load(\"d2v.model\")\n",
    "#to find the vector of a document which is not in training data\n",
    "test_data = word_tokenize(\"Human Immunodeficiency Virus 1 uses for entry into host cells a receptor and one of two co-receptors.\".lower())\n",
    "v1 = model.infer_vector(test_data)\n",
    "print(\"V1_infer:\", v1)\n",
    "\n",
    "# to find most similar doc using tags\n",
    "similar_doc = model.docvecs.most_similar([v1])\n",
    "print(\"Similar:\", similar_doc)\n",
    "\n",
    "# to find vector of doc in training data using tags or in other words, printing the vector of document at index 1 in training data\n",
    "print(\"Doc 1 vec:\", model.docvecs[0])"
   ]
  },
  {
   "cell_type": "code",
   "execution_count": 75,
   "metadata": {
    "scrolled": false
   },
   "outputs": [
    {
     "data": {
      "image/png": "[encoded data removed]",
      "text/plain": [
       "<Figure size 432x288 with 1 Axes>"
      ]
     },
     "metadata": {},
     "output_type": "display_data"
    }
   ],
   "source": [
    "### Identify no. of clusters using elbow curve ###\n",
    "import pylab as pl\n",
    "\n",
    "# Load doc2vec model if not already loaded\n",
    "d2v_model= Doc2Vec.load(\"d2v.model\")\n",
    "\n",
    "Nc = range(1, 10)\n",
    "kmeans = [KMeans(n_clusters=i, init='k-means++', max_iter=100) for i in Nc]\n",
    "# kmeans\n",
    "Y = d2v_model.docvecs.doctag_syn0\n",
    "score = [kmeans[i].fit(Y).score(Y) for i in range(len(kmeans))]\n",
    "# score\n",
    "pl.plot(Nc,score)\n",
    "pl.xlabel('Number of Clusters')\n",
    "pl.ylabel('Score')\n",
    "pl.title('Elbow Curve')\n",
    "pl.show()"
   ]
  },
  {
   "cell_type": "code",
   "execution_count": 70,
   "metadata": {},
   "outputs": [
    {
     "data": {
      "image/png": "[encoded data removed]",
      "text/plain": [
       "<Figure size 432x288 with 1 Axes>"
      ]
     },
     "metadata": {},
     "output_type": "display_data"
    }
   ],
   "source": [
    "### Use K-Means to cluster data ###\n",
    "\n",
    "# Load doc2vec model\n",
    "d2v_model= Doc2Vec.load(\"d2v.model\")\n",
    "\n",
    "kmeans_model = KMeans(n_clusters=3, init='k-means++', max_iter=100)  \n",
    "\n",
    "# Cluster points\n",
    "X = kmeans_model.fit(d2v_model.docvecs.doctag_syn0)\n",
    "labels=kmeans_model.labels_.tolist()    \n",
    "\n",
    "# Create cluster centres\n",
    "l = kmeans_model.fit_predict(d2v_model.docvecs.doctag_syn0)\n",
    "\n",
    "pca = PCA(n_components=2).fit(d2v_model.docvecs.doctag_syn0)\n",
    "datapoint = pca.transform(d2v_model.docvecs.doctag_syn0)\n",
    "\n",
    "plt.figure\n",
    "c_map = [\"#FFFF00\", \"#1CE6FF\", \"#FF34FF\", \"#FF4A46\", \"#008941\", \"#006FA6\", \"#A30059\",\n",
    "        \"#FFDBE5\", \"#7A4900\", \"#0000A6\", \"#63FFAC\", \"#B79762\", \"#004D43\", \"#8FB0FF\", \"#997D87\",\n",
    "        \"#5A0007\", \"#809693\", \"#FEFFE6\", \"#1B4400\", \"#4FC601\", \"#3B5DFF\", \"#4A3B53\", \"#FF2F80\",\n",
    "        \"#61615A\", \"#BA0900\", \"#6B7900\", \"#00C2A0\", \"#FFAA92\", \"#FF90C9\", \"#B903AA\", \"#D16100\",\n",
    "        \"#DDEFFF\", \"#000035\", \"#7B4F4B\", \"#A1C299\", \"#300018\", \"#0AA6D8\", \"#013349\", \"#00846F\",\n",
    "        \"#372101\", \"#FFB500\", \"#C2FFED\", \"#A079BF\", \"#CC0744\", \"#C0B9B2\", \"#C2FF99\", \"#001E09\",\n",
    "        \"#00489C\", \"#6F0062\", \"#0CBD66\", \"#EEC3FF\", \"#456D75\", \"#B77B68\", \"#7A87A1\", \"#788D66\",\n",
    "        \"#885578\", \"#FAD09F\", \"#FF8A9A\", \"#D157A0\", \"#BEC459\", \"#456648\", \"#0086ED\", \"#886F4C\",\n",
    "        \n",
    "        \"#34362D\", \"#B4A8BD\", \"#00A6AA\", \"#452C2C\", \"#636375\", \"#A3C8C9\", \"#FF913F\", \"#938A81\",\n",
    "        \"#575329\", \"#00FECF\", \"#B05B6F\", \"#8CD0FF\", \"#3B9700\", \"#04F757\", \"#C8A1A1\", \"#1E6E00\",\n",
    "        \"#7900D7\", \"#A77500\", \"#6367A9\", \"#A05837\", \"#6B002C\", \"#772600\", \"#D790FF\", \"#9B9700\",\n",
    "        \"#549E79\", \"#FFF69F\", \"#201625\", \"#72418F\", \"#BC23FF\", \"#99ADC0\", \"#3A2465\", \"#922329\",\n",
    "        \"#5B4534\", \"#FDE8DC\", \"#404E55\", \"#0089A3\", \"#CB7E98\", \"#A4E804\", \"#324E72\", \"#6A3A4C\",\n",
    "        \"#83AB58\", \"#001C1E\", \"#D1F7CE\", \"#004B28\", \"#C8D0F6\", \"#A3A489\", \"#806C66\", \"#222800\",\n",
    "        \"#BF5650\", \"#E83000\", \"#66796D\", \"#DA007C\", \"#FF1A59\", \"#8ADBB4\", \"#1E0200\", \"#5B4E51\",\n",
    "        \"#C895C5\", \"#320033\", \"#FF6832\", \"#66E1D3\", \"#CFCDAC\", \"#D0AC94\", \"#7ED379\", \"#012C58\",\n",
    "        \n",
    "        \"#7A7BFF\", \"#D68E01\", \"#353339\", \"#78AFA1\", \"#FEB2C6\", \"#75797C\", \"#837393\", \"#943A4D\",\n",
    "        \"#B5F4FF\", \"#D2DCD5\", \"#9556BD\", \"#6A714A\", \"#001325\", \"#02525F\", \"#0AA3F7\", \"#E98176\",\n",
    "        \"#DBD5DD\", \"#5EBCD1\", \"#3D4F44\", \"#7E6405\", \"#02684E\", \"#962B75\", \"#8D8546\", \"#9695C5\",\n",
    "        \"#E773CE\", \"#D86A78\", \"#3E89BE\", \"#CA834E\", \"#518A87\", \"#5B113C\", \"#55813B\", \"#E704C4\",\n",
    "        \"#00005F\", \"#A97399\", \"#4B8160\", \"#59738A\", \"#FF5DA7\", \"#F7C9BF\", \"#643127\", \"#513A01\",\n",
    "        \"#6B94AA\", \"#51A058\", \"#A45B02\", \"#1D1702\", \"#E20027\", \"#E7AB63\", \"#4C6001\", \"#9C6966\",\n",
    "        \"#64547B\", \"#97979E\", \"#006A66\", \"#391406\", \"#F4D749\", \"#0045D2\", \"#006C31\", \"#DDB6D0\",\n",
    "        \"#7C6571\", \"#9FB2A4\", \"#00D891\", \"#15A08A\", \"#BC65E9\", \"#FFFFFE\", \"#C6DC99\", \"#203B3C\",\n",
    "\n",
    "        \"#671190\", \"#6B3A64\", \"#F5E1FF\", \"#FFA0F2\", \"#CCAA35\", \"#374527\", \"#8BB400\", \"#797868\",\n",
    "        \"#C6005A\", \"#3B000A\", \"#C86240\", \"#29607C\", \"#402334\", \"#7D5A44\", \"#CCB87C\", \"#B88183\",\n",
    "        \"#AA5199\", \"#B5D6C3\", \"#A38469\", \"#9F94F0\", \"#A74571\", \"#B894A6\", \"#71BB8C\", \"#00B433\",\n",
    "        \"#789EC9\", \"#6D80BA\", \"#953F00\", \"#5EFF03\", \"#E4FFFC\", \"#1BE177\", \"#BCB1E5\", \"#76912F\",\n",
    "        \"#003109\", \"#0060CD\", \"#D20096\", \"#895563\", \"#29201D\", \"#5B3213\", \"#A76F42\", \"#89412E\",\n",
    "        \"#1A3A2A\", \"#494B5A\", \"#A88C85\", \"#F4ABAA\", \"#A3F3AB\", \"#00C6C8\", \"#EA8B66\", \"#958A9F\",\n",
    "        \"#BDC9D2\", \"#9FA064\", \"#BE4700\", \"#658188\", \"#83A485\", \"#453C23\", \"#47675D\", \"#3A3F00\",\n",
    "        \"#061203\", \"#DFFB71\", \"#868E7E\", \"#98D058\", \"#6C8F7D\", \"#D7BFC2\", \"#3C3E6E\", \"#D83D66\",\n",
    "        \n",
    "        \"#2F5D9B\", \"#6C5E46\", \"#D25B88\", \"#5B656C\", \"#00B57F\", \"#545C46\", \"#866097\", \"#365D25\",\n",
    "        \"#252F99\", \"#00CCFF\", \"#674E60\", \"#FC009C\", \"#92896B\"]\n",
    "\n",
    "colour = [c_map[i] for i in labels]\n",
    "plt.scatter(datapoint[:, 0], datapoint[:, 1], c=colour)\n",
    "\n",
    "centroids = kmeans_model.cluster_centers_\n",
    "centroidpoint = pca.transform(centroids)\n",
    "plt.scatter(centroidpoint[:, 0], centroidpoint[:, 1], marker='^', s=150, c='#000000')\n",
    "plt.show()"
   ]
  },
  {
   "cell_type": "code",
   "execution_count": 71,
   "metadata": {},
   "outputs": [
    {
     "name": "stdout",
     "output_type": "stream",
     "text": [
      "[[  2.752527     0.76895523  -4.8003573   -4.625906    11.18454\n",
      "   11.558793    -3.1611989   -8.4067745    1.249229    -0.37749553\n",
      "    3.6673353    6.0285025   -3.9876242   -0.04621136  -3.6310153\n",
      "   -0.9860933    6.156375    -1.9938431   -3.130492     1.514244  ]\n",
      " [  2.2413516   -4.213737    -9.259848    -3.5658393   -0.07954597\n",
      "    5.313674    -2.368452    -6.1742516    2.3419733   -3.7570925\n",
      "    3.9732423    7.305857    -3.4198833    3.028935    -1.8077519\n",
      "   -8.54944      2.3750148   -3.533586   -11.721868    -4.441307  ]\n",
      " [ -1.3504266   -8.149396    -5.2114553    0.94095254   4.9400673\n",
      "   13.838985    -5.2205544   -5.989482     1.287189    -2.0341775\n",
      "   -3.4615576    4.751933     3.2504601    2.4222102    1.5029056\n",
      "   -1.9167868    3.8835196   -5.336304    -6.199129    -2.779643  ]]\n",
      "Model saved...\n"
     ]
    }
   ],
   "source": [
    "### Save model ###\n",
    "from sklearn.externals import joblib\n",
    "\n",
    "# Check cluster centres\n",
    "print(kmeans_model.cluster_centers_)\n",
    "\n",
    "# save the model to disk\n",
    "filename = 'kmeans_model.sav'\n",
    "joblib.dump(kmeans_model, filename)\n",
    "print('Model saved...')"
   ]
  },
  {
   "cell_type": "code",
   "execution_count": 72,
   "metadata": {},
   "outputs": [
    {
     "name": "stdout",
     "output_type": "stream",
     "text": [
      "Model loaded...\n",
      "[[  2.752527     0.76895523  -4.8003573   -4.625906    11.18454\n",
      "   11.558793    -3.1611989   -8.4067745    1.249229    -0.37749553\n",
      "    3.6673353    6.0285025   -3.9876242   -0.04621136  -3.6310153\n",
      "   -0.9860933    6.156375    -1.9938431   -3.130492     1.514244  ]\n",
      " [  2.2413516   -4.213737    -9.259848    -3.5658393   -0.07954597\n",
      "    5.313674    -2.368452    -6.1742516    2.3419733   -3.7570925\n",
      "    3.9732423    7.305857    -3.4198833    3.028935    -1.8077519\n",
      "   -8.54944      2.3750148   -3.533586   -11.721868    -4.441307  ]\n",
      " [ -1.3504266   -8.149396    -5.2114553    0.94095254   4.9400673\n",
      "   13.838985    -5.2205544   -5.989482     1.287189    -2.0341775\n",
      "   -3.4615576    4.751933     3.2504601    2.4222102    1.5029056\n",
      "   -1.9167868    3.8835196   -5.336304    -6.199129    -2.779643  ]]\n"
     ]
    }
   ],
   "source": [
    "### Load model ###\n",
    "kmeans_model = joblib.load(filename)\n",
    "print('Model loaded...')\n",
    "print(kmeans_model.cluster_centers_)"
   ]
  },
  {
   "cell_type": "code",
   "execution_count": 73,
   "metadata": {},
   "outputs": [
    {
     "name": "stdout",
     "output_type": "stream",
     "text": [
      "[2]\n",
      "[0]\n",
      "[1]\n"
     ]
    }
   ],
   "source": [
    "d2v_model= Doc2Vec.load(\"d2v.model\")\n",
    "#to find the vector of a document which is not in training data\n",
    "test_data1 = word_tokenize(\"Human Immunodeficiency Virus 1 uses for entry into host cells a receptor and one of two co-receptors.\".lower())\n",
    "v1 = d2v_model.infer_vector(test_data1)\n",
    "\n",
    "test_data2 = word_tokenize(\"AIMX\tIn this paper, we approach the problem in its most general form by algebraic methods and give a complete algebraic characterization of tractable constraint languages\".lower())\n",
    "v2 = d2v_model.infer_vector(test_data2)\n",
    "\n",
    "test_data3 = word_tokenize(\"OWNX On the other hand, if one were to look for mechanically strong proteins then the architectures and folds identified by us should provide a good starting point.\".lower())\n",
    "v3 = d2v_model.infer_vector(test_data3)\n",
    "\n",
    "kmeans_model = joblib.load(filename)\n",
    "pre1 = kmeans_model.predict([v1])\n",
    "print(pre1)\n",
    "\n",
    "pre2 = kmeans_model.predict([v2])\n",
    "print(pre2)\n",
    "\n",
    "pre3 = kmeans_model.predict([v3])\n",
    "print(pre3)"
   ]
  },
  {
   "cell_type": "code",
   "execution_count": null,
   "metadata": {
    "collapsed": true
   },
   "outputs": [],
   "source": []
  }
 ],
 "metadata": {
  "kernelspec": {
   "display_name": "Python [conda env:myenv]",
   "language": "python",
   "name": "conda-env-myenv-py"
  },
  "language_info": {
   "codemirror_mode": {
    "name": "ipython",
    "version": 3
   },
   "file_extension": ".py",
   "mimetype": "text/x-python",
   "name": "python",
   "nbconvert_exporter": "python",
   "pygments_lexer": "ipython3",
   "version": "3.6.4"
  }
 },
 "nbformat": 4,
 "nbformat_minor": 2
}
