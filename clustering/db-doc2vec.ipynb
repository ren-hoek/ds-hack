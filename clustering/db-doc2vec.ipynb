{
 "cells": [
  {
   "cell_type": "code",
   "execution_count": 50,
   "metadata": {
    "collapsed": true
   },
   "outputs": [],
   "source": [
    "### Imports ###\n",
    "import gensim\n",
    "from nltk.tokenize import word_tokenize\n",
    "from sklearn.cluster import KMeans\n",
    "import matplotlib.pyplot as plt\n",
    "from sklearn.decomposition import PCA\n",
    "from gensim.models.doc2vec import TaggedDocument, Doc2Vec\n",
    "import pylab as pl\n",
    "import numpy as np"
   ]
  },
  {
   "cell_type": "code",
   "execution_count": 39,
   "metadata": {},
   "outputs": [
    {
     "name": "stdout",
     "output_type": "stream",
     "text": [
      "Finished...\n"
     ]
    }
   ],
   "source": [
    "import os\n",
    "import pymongo as py\n",
    "\n",
    "# Database info\n",
    "client = py.MongoClient('mongodb://cosmo-feynman:4rDaE4LwLhwtwKCRIID7BV42Dpz9JOcj3H8kTDUqDmDbkmJiW4HqcGmktibeGWdAkFE5ZE8bQPvR1EncGLSiGA==@cosmo-feynman.documents.azure.com:10255/?ssl=true&replicaSet=globaldb')\n",
    "db = client.ch\n",
    "\n",
    "# Gather files of interest\n",
    "data = db.docs.find(\n",
    "    {\n",
    "        'filetype': 'pdf',\n",
    "        'doctype': 'annual-returns',\n",
    "        'extracted_hand': {'$exists': True}\n",
    "    })\n",
    "print('Finished...')"
   ]
  },
  {
   "cell_type": "code",
   "execution_count": 40,
   "metadata": {},
   "outputs": [
    {
     "name": "stdout",
     "output_type": "stream",
     "text": [
      "Finished...\n"
     ]
    }
   ],
   "source": [
    "### Convert data to tagged format ###\n",
    "tagged_data = []\n",
    "filenames = []\n",
    "\n",
    "for item in data:\n",
    "    tagged_data.append(TaggedDocument(words=item['extracted_hand'], tags=[item['filename']]))\n",
    "    filenames.append(item['filename'])\n",
    "print('Finished...')"
   ]
  },
  {
   "cell_type": "code",
   "execution_count": 23,
   "metadata": {},
   "outputs": [
    {
     "name": "stdout",
     "output_type": "stream",
     "text": [
      "Running...\n",
      "Doc2Vec Model Saved\n",
      "Word2Vec Model Saved\n"
     ]
    }
   ],
   "source": [
    "### Build Model ###\n",
    "max_epochs = 100\n",
    "vec_size = 20\n",
    "alpha = 0.025\n",
    "\n",
    "model = Doc2Vec(size=vec_size,\n",
    "                alpha=alpha, \n",
    "                min_alpha=0.025,\n",
    "                min_count=1,\n",
    "                dm=1)\n",
    "  \n",
    "model.build_vocab(tagged_data)\n",
    "\n",
    "print('Running...')\n",
    "\n",
    "for epoch in range(max_epochs):\n",
    "#     print('iteration {0}'.format(epoch))\n",
    "    model.train(tagged_data,\n",
    "                total_examples=model.corpus_count,\n",
    "                epochs=model.iter)\n",
    "    # decrease the learning rate\n",
    "    model.alpha -= 0.0002\n",
    "    # fix the learning rate, no decay\n",
    "    model.min_alpha = model.alpha\n",
    "\n",
    "model.save(\"d2v.model\")\n",
    "print(\"Doc2Vec Model Saved\")\n",
    "model.save_word2vec_format('w2v.model')\n",
    "print(\"Word2Vec Model Saved\")"
   ]
  },
  {
   "cell_type": "code",
   "execution_count": 27,
   "metadata": {
    "scrolled": false
   },
   "outputs": [
    {
     "data": {
      "image/png": "[encoded data removed]",
      "text/plain": [
       "<Figure size 432x288 with 1 Axes>"
      ]
     },
     "metadata": {},
     "output_type": "display_data"
    }
   ],
   "source": [
    "### Identify no. of clusters using elbow curve ###\n",
    "\n",
    "# Load doc2vec model if not already loaded\n",
    "d2v_model= Doc2Vec.load(\"d2v.model\")\n",
    "\n",
    "Nc = range(1, 10)\n",
    "kmeans = [KMeans(n_clusters=i, init='k-means++', max_iter=100) for i in Nc]\n",
    "# kmeans\n",
    "Y = d2v_model.docvecs.doctag_syn0\n",
    "score = [kmeans[i].fit(Y).score(Y) for i in range(len(kmeans))]\n",
    "# score\n",
    "pl.plot(Nc,score)\n",
    "pl.xlabel('Number of Clusters')\n",
    "pl.ylabel('Score')\n",
    "pl.title('Elbow Curve')\n",
    "pl.show()"
   ]
  },
  {
   "cell_type": "code",
   "execution_count": 33,
   "metadata": {},
   "outputs": [
    {
     "data": {
      "image/png": "[encoded data removed]",
      "text/plain": [
       "<Figure size 432x288 with 1 Axes>"
      ]
     },
     "metadata": {},
     "output_type": "display_data"
    }
   ],
   "source": [
    "### Use K-Means to cluster data ###\n",
    "\n",
    "# Load doc2vec model\n",
    "d2v_model= Doc2Vec.load(\"d2v.model\")\n",
    "\n",
    "k = 5\n",
    "kmeans_model = KMeans(n_clusters=k, init='k-means++', max_iter=100)  \n",
    "\n",
    "# Cluster points\n",
    "X = kmeans_model.fit(d2v_model.docvecs.doctag_syn0)\n",
    "labels=kmeans_model.labels_.tolist()    \n",
    "\n",
    "# Create cluster centres\n",
    "l = kmeans_model.fit_predict(d2v_model.docvecs.doctag_syn0)\n",
    "\n",
    "plt.hist(kmeans_model.labels_, bins=k)\n",
    "plt.show()"
   ]
  },
  {
   "cell_type": "code",
   "execution_count": 34,
   "metadata": {},
   "outputs": [
    {
     "data": {
      "image/png": "[encoded data removed]",
      "text/plain": [
       "<Figure size 432x288 with 1 Axes>"
      ]
     },
     "metadata": {},
     "output_type": "display_data"
    }
   ],
   "source": [
    "### Plot in 2d ###\n",
    "pca = PCA(n_components=2).fit(d2v_model.docvecs.doctag_syn0)\n",
    "datapoint = pca.transform(d2v_model.docvecs.doctag_syn0)\n",
    "\n",
    "plt.figure\n",
    "c_map = [\"#FFFF00\", \"#1CE6FF\", \"#FF34FF\", \"#FF4A46\", \"#008941\", \"#006FA6\", \"#A30059\",\n",
    "        \"#FFDBE5\", \"#7A4900\", \"#0000A6\", \"#63FFAC\", \"#B79762\", \"#004D43\", \"#8FB0FF\", \"#997D87\",\n",
    "        \"#5A0007\", \"#809693\", \"#FEFFE6\", \"#1B4400\", \"#4FC601\", \"#3B5DFF\", \"#4A3B53\", \"#FF2F80\",\n",
    "        \"#61615A\", \"#BA0900\", \"#6B7900\", \"#00C2A0\", \"#FFAA92\", \"#FF90C9\", \"#B903AA\", \"#D16100\",\n",
    "        \"#DDEFFF\", \"#000035\", \"#7B4F4B\", \"#A1C299\", \"#300018\", \"#0AA6D8\", \"#013349\", \"#00846F\",\n",
    "        \"#372101\", \"#FFB500\", \"#C2FFED\", \"#A079BF\", \"#CC0744\", \"#C0B9B2\", \"#C2FF99\", \"#001E09\",\n",
    "        \"#00489C\", \"#6F0062\", \"#0CBD66\", \"#EEC3FF\", \"#456D75\", \"#B77B68\", \"#7A87A1\", \"#788D66\",\n",
    "        \"#885578\", \"#FAD09F\", \"#FF8A9A\", \"#D157A0\", \"#BEC459\", \"#456648\", \"#0086ED\", \"#886F4C\",\n",
    "        \n",
    "        \"#34362D\", \"#B4A8BD\", \"#00A6AA\", \"#452C2C\", \"#636375\", \"#A3C8C9\", \"#FF913F\", \"#938A81\",\n",
    "        \"#575329\", \"#00FECF\", \"#B05B6F\", \"#8CD0FF\", \"#3B9700\", \"#04F757\", \"#C8A1A1\", \"#1E6E00\",\n",
    "        \"#7900D7\", \"#A77500\", \"#6367A9\", \"#A05837\", \"#6B002C\", \"#772600\", \"#D790FF\", \"#9B9700\",\n",
    "        \"#549E79\", \"#FFF69F\", \"#201625\", \"#72418F\", \"#BC23FF\", \"#99ADC0\", \"#3A2465\", \"#922329\",\n",
    "        \"#5B4534\", \"#FDE8DC\", \"#404E55\", \"#0089A3\", \"#CB7E98\", \"#A4E804\", \"#324E72\", \"#6A3A4C\",\n",
    "        \"#83AB58\", \"#001C1E\", \"#D1F7CE\", \"#004B28\", \"#C8D0F6\", \"#A3A489\", \"#806C66\", \"#222800\",\n",
    "        \"#BF5650\", \"#E83000\", \"#66796D\", \"#DA007C\", \"#FF1A59\", \"#8ADBB4\", \"#1E0200\", \"#5B4E51\",\n",
    "        \"#C895C5\", \"#320033\", \"#FF6832\", \"#66E1D3\", \"#CFCDAC\", \"#D0AC94\", \"#7ED379\", \"#012C58\",\n",
    "        \n",
    "        \"#7A7BFF\", \"#D68E01\", \"#353339\", \"#78AFA1\", \"#FEB2C6\", \"#75797C\", \"#837393\", \"#943A4D\",\n",
    "        \"#B5F4FF\", \"#D2DCD5\", \"#9556BD\", \"#6A714A\", \"#001325\", \"#02525F\", \"#0AA3F7\", \"#E98176\",\n",
    "        \"#DBD5DD\", \"#5EBCD1\", \"#3D4F44\", \"#7E6405\", \"#02684E\", \"#962B75\", \"#8D8546\", \"#9695C5\",\n",
    "        \"#E773CE\", \"#D86A78\", \"#3E89BE\", \"#CA834E\", \"#518A87\", \"#5B113C\", \"#55813B\", \"#E704C4\",\n",
    "        \"#00005F\", \"#A97399\", \"#4B8160\", \"#59738A\", \"#FF5DA7\", \"#F7C9BF\", \"#643127\", \"#513A01\",\n",
    "        \"#6B94AA\", \"#51A058\", \"#A45B02\", \"#1D1702\", \"#E20027\", \"#E7AB63\", \"#4C6001\", \"#9C6966\",\n",
    "        \"#64547B\", \"#97979E\", \"#006A66\", \"#391406\", \"#F4D749\", \"#0045D2\", \"#006C31\", \"#DDB6D0\",\n",
    "        \"#7C6571\", \"#9FB2A4\", \"#00D891\", \"#15A08A\", \"#BC65E9\", \"#FFFFFE\", \"#C6DC99\", \"#203B3C\",\n",
    "\n",
    "        \"#671190\", \"#6B3A64\", \"#F5E1FF\", \"#FFA0F2\", \"#CCAA35\", \"#374527\", \"#8BB400\", \"#797868\",\n",
    "        \"#C6005A\", \"#3B000A\", \"#C86240\", \"#29607C\", \"#402334\", \"#7D5A44\", \"#CCB87C\", \"#B88183\",\n",
    "        \"#AA5199\", \"#B5D6C3\", \"#A38469\", \"#9F94F0\", \"#A74571\", \"#B894A6\", \"#71BB8C\", \"#00B433\",\n",
    "        \"#789EC9\", \"#6D80BA\", \"#953F00\", \"#5EFF03\", \"#E4FFFC\", \"#1BE177\", \"#BCB1E5\", \"#76912F\",\n",
    "        \"#003109\", \"#0060CD\", \"#D20096\", \"#895563\", \"#29201D\", \"#5B3213\", \"#A76F42\", \"#89412E\",\n",
    "        \"#1A3A2A\", \"#494B5A\", \"#A88C85\", \"#F4ABAA\", \"#A3F3AB\", \"#00C6C8\", \"#EA8B66\", \"#958A9F\",\n",
    "        \"#BDC9D2\", \"#9FA064\", \"#BE4700\", \"#658188\", \"#83A485\", \"#453C23\", \"#47675D\", \"#3A3F00\",\n",
    "        \"#061203\", \"#DFFB71\", \"#868E7E\", \"#98D058\", \"#6C8F7D\", \"#D7BFC2\", \"#3C3E6E\", \"#D83D66\",\n",
    "        \n",
    "        \"#2F5D9B\", \"#6C5E46\", \"#D25B88\", \"#5B656C\", \"#00B57F\", \"#545C46\", \"#866097\", \"#365D25\",\n",
    "        \"#252F99\", \"#00CCFF\", \"#674E60\", \"#FC009C\", \"#92896B\"]\n",
    "\n",
    "colour = [c_map[i] for i in labels]\n",
    "plt.scatter(datapoint[:, 0], datapoint[:, 1], c=colour)\n",
    "\n",
    "centroids = kmeans_model.cluster_centers_\n",
    "centroidpoint = pca.transform(centroids)\n",
    "plt.scatter(centroidpoint[:, 0], centroidpoint[:, 1], marker='^', s=150, c='#000000')\n",
    "plt.show()"
   ]
  },
  {
   "cell_type": "code",
   "execution_count": 47,
   "metadata": {},
   "outputs": [
    {
     "name": "stdout",
     "output_type": "stream",
     "text": [
      "Model saved...\n"
     ]
    }
   ],
   "source": [
    "### Save model ###\n",
    "from sklearn.externals import joblib\n",
    "\n",
    "# Check cluster centres\n",
    "# print(kmeans_model.cluster_centers_)\n",
    "\n",
    "# save the model to disk\n",
    "filename = 'kmeans_model.sav'\n",
    "joblib.dump(kmeans_model, filename)\n",
    "print('Model saved...')"
   ]
  },
  {
   "cell_type": "code",
   "execution_count": 52,
   "metadata": {
    "scrolled": true
   },
   "outputs": [
    {
     "name": "stdout",
     "output_type": "stream",
     "text": [
      "Model loaded...\n"
     ]
    }
   ],
   "source": [
    "### Load model ###\n",
    "kmeans_model = joblib.load(filename)\n",
    "print('Model loaded...')\n",
    "# print(kmeans_model.cluster_centers_)"
   ]
  },
  {
   "cell_type": "code",
   "execution_count": 74,
   "metadata": {
    "scrolled": true
   },
   "outputs": [
    {
     "name": "stdout",
     "output_type": "stream",
     "text": [
      "Random result:\n",
      "{'cluster': array([3], dtype=int32),\n",
      " 'similar_docs': [('02374461_annual-returns_2017-05-01.pdf',\n",
      "                   0.9999999403953552),\n",
      "                  ('08703677_annual-returns_2016-12-06.pdf',\n",
      "                   0.9741925597190857),\n",
      "                  ('04785954_annual-returns_2017-06-14.pdf',\n",
      "                   0.9691190719604492),\n",
      "                  ('08498015_annual-returns_2017-05-01.pdf', 0.967235267162323),\n",
      "                  ('05399829_annual-returns_2017-03-20.pdf', 0.966727614402771),\n",
      "                  ('06997138_annual-returns_2017-02-20.pdf',\n",
      "                   0.9651126861572266),\n",
      "                  ('07425534_annual-returns_2016-11-07.pdf',\n",
      "                   0.9646397233009338),\n",
      "                  ('10186380_annual-returns_2017-06-07.pdf',\n",
      "                   0.9610203504562378),\n",
      "                  ('08534118_annual-returns_2017-06-05.pdf',\n",
      "                   0.9607982635498047),\n",
      "                  ('05583266_annual-returns_2016-10-11.pdf',\n",
      "                   0.9587697386741638)],\n",
      " 'vectors': array([-3.7046115 ,  3.1534357 ,  1.2786804 ,  4.070207  , -1.9536927 ,\n",
      "       -1.8513575 , -0.6718304 , -0.5771887 ,  3.139173  , -1.7133204 ,\n",
      "        4.4594684 ,  1.2713625 ,  1.7601736 , -0.59702414, -4.0527616 ,\n",
      "        1.2761127 ,  0.09746104, -1.4633557 ,  5.6670294 ,  6.3916655 ],\n",
      "      dtype=float32)}\n"
     ]
    }
   ],
   "source": [
    "### Get results ###\n",
    "import collections, pprint\n",
    "\n",
    "model= Doc2Vec.load(\"d2v.model\")\n",
    "kmeans_model = joblib.load(filename)\n",
    "\n",
    "results = {}\n",
    "\n",
    "for filen in filenames:\n",
    "    vec = model.docvecs[filen]\n",
    "    sim_doc = model.docvecs.most_similar([vec])\n",
    "    clust = kmeans_model.predict([vec])\n",
    "    results[filen] = {}\n",
    "    results[filen]['vectors'] = vec\n",
    "    results[filen]['similar_docs'] = sim_doc\n",
    "    results[filen]['cluster'] = clust\n",
    "\n",
    "print('Random result:')\n",
    "pp = pprint.PrettyPrinter(indent=1)\n",
    "pp.pprint(next (iter (results.values())))"
   ]
  },
  {
   "cell_type": "code",
   "execution_count": 59,
   "metadata": {},
   "outputs": [
    {
     "name": "stdout",
     "output_type": "stream",
     "text": [
      "Testing unseen data \n",
      "\n",
      "Infered doc2vec vector:\n",
      "[-0.04467064 -0.0497687  -0.20206808  0.28245252  0.03920534 -0.230239\n",
      " -0.31310135 -0.07032774 -0.45669794 -0.5662798   0.12720425 -0.23232889\n",
      " -0.26006764 -0.27035436 -0.4027501  -0.16504706 -0.25329044  0.09978803\n",
      "  0.5507636   0.13746937] \n",
      "\n",
      "Similar documents:\n",
      "[('00984275_annual-returns_2015-05-29.pdf', 0.5602951049804688), ('02725280_annual-returns_2018-01-05.pdf', 0.5545044541358948), ('08807751_annual-returns_2016-12-12.pdf', 0.5428720712661743), ('04871166_annual-returns_2015-10-01.pdf', 0.5301312208175659), ('00984275_annual-returns_2013-03-01.pdf', 0.5159821510314941), ('08799092_annual-returns_2017-01-03.pdf', 0.47090572118759155), ('07245047_annual-returns_2017-05-19.pdf', 0.4611961841583252), ('08151156_annual-returns_2016-08-03.pdf', 0.45253175497055054), ('00984275_annual-returns_2014-03-01.pdf', 0.44757288694381714), ('SC269235_annual-returns_2016-07-26.pdf', 0.4450336694717407)] \n",
      "\n",
      "Predicted cluster:\n",
      "[0]\n"
     ]
    }
   ],
   "source": [
    "### Predict vec and cluster ###\n",
    "# Load models if not already done\n",
    "d2v_model= Doc2Vec.load(\"d2v.model\")\n",
    "kmeans_model = joblib.load(filename)\n",
    "\n",
    "#to find the vector of a document which is not in training data\n",
    "test_data = word_tokenize(\"Human Immunodeficiency Virus 1 uses for entry into host cells a receptor and one of two co-receptors.\".lower())\n",
    "vec = d2v_model.infer_vector(test_data)\n",
    "sim_doc = d2v_model.docvecs.most_similar([vec])\n",
    "clust = kmeans_model.predict([vec])\n",
    "\n",
    "print('Testing unseen data \\n')\n",
    "print('Infered doc2vec vector:')\n",
    "print(vec, '\\n')\n",
    "print('Similar documents:')\n",
    "print(sim_doc, '\\n')\n",
    "print('Predicted cluster:')\n",
    "print(clust)"
   ]
  },
  {
   "cell_type": "code",
   "execution_count": null,
   "metadata": {
    "collapsed": true
   },
   "outputs": [],
   "source": []
  }
 ],
 "metadata": {
  "kernelspec": {
   "display_name": "Python [conda env:myenv]",
   "language": "python",
   "name": "conda-env-myenv-py"
  },
  "language_info": {
   "codemirror_mode": {
    "name": "ipython",
    "version": 3
   },
   "file_extension": ".py",
   "mimetype": "text/x-python",
   "name": "python",
   "nbconvert_exporter": "python",
   "pygments_lexer": "ipython3",
   "version": "3.6.4"
  }
 },
 "nbformat": 4,
 "nbformat_minor": 2
}
