{
 "cells": [
  {
   "cell_type": "code",
   "execution_count": 1,
   "metadata": {},
   "outputs": [
    {
     "name": "stdout",
     "output_type": "stream",
     "text": [
      "['0301\\nCompanies House (9f)\\nConfirmation Statement\\n\\nCompany Name: BUSINESS REPORTS AND RESEARCH LIMITED\\n\\n \\n\\n \\n\\n \\n\\n \\n\\n \\n\\n \\n\\n \\n\\n \\n\\nReceived for ﬁling in Electronic Format on the:01l05l2017 X65JEQSY\\nCompany Name: BUSINESS REPORTS AND RESEARCH LIMITED\\nCompany Number: 02374461\\n\\nConﬁrmation 20I04I2017\\n\\nStatement date:\\n\\nElectronically filed document for Company Number: 02374461 Page: 1', 'Statement of Capital (Share Capital)\\n\\nClass of Shares: ORDINARY Number allotted 1000\\nCurrency: GBP Aggregate nominal value: 1000\\n\\nPrescribed particulars\\nORDINARY SHARES WITH VOTING RIGHTS\\n\\nStatement of Capital (Totals)\\n\\nCurrency: GBP Total number of shares: 1000\\nTotal aggregate nominal 1000\\nvalue:\\n\\nTotal aggregate amount 0\\nunpaid:\\n\\nElectronically filed document for Company Number: 02374461 Page: 2', \"Persons with Significant Control (PSC)\\n\\nPSC notifications\\n\\nNotiﬁcation Details\\n\\nDate that person became 06104I2016\\nregistrable:\\n\\nName: MR MALCOLM LINDSAY ROLFE\\n\\nService address recorded as Company's registered ofﬁce\\n\\nCountry/State Usually ENGLAND\\n\\nResident:\\nDate of Birth: ”11211950\\nNationality: BRITISH\\n\\nNature of control\\n\\nThe person holds, directly or indirectly, 75% or more of the shares in the company.\\n\\nElectronically filed document for Company Number: 02374461 Page: 3\", 'Confirmation Statement\\n\\nI conﬁrm that all information required to be delivered by the company to the registrar in relation to\\nthe conﬁrmation period concerned either has been delivered or is being delivered at the same time\\nas the conﬁrmation statement\\n\\nElectronically filed document for Company Number: 02374461 Page: 4', 'Authorisation\\n\\nAuthenticated\\n\\nThis form was authorised by one of the following:\\n\\nDirector, Secretary, Person Authorised, Charity Commission Receiver and Manager, ClC Manager,\\nJudicial Factor\\n\\nEnd of Electronically filed document for Company Number: 02374461 Page: 5']\n"
     ]
    }
   ],
   "source": [
    "import io\n",
    "from wand.image import Image as wi\n",
    "from PIL import Image\n",
    "from pytesseract import pytesseract\n",
    "\n",
    "\n",
    "def pdf_covert (path):\n",
    "\n",
    "    pdf = wi(filename=path, resolution=500)\n",
    "    coverted_image = pdf.convert('jpeg')\n",
    "    imageBlobs = []\n",
    "\n",
    "    for img in coverted_image.sequence:\n",
    "        img_page = wi(image = img)\n",
    "        imageBlobs.append(img_page.make_blob('png'))\n",
    "    return imageBlobs\n",
    "\n",
    "\n",
    "def ocr_converted_pdf(checked_image):\n",
    "\n",
    "    image_text = []\n",
    "\n",
    "    for image in checked_image:\n",
    "        im = Image.open(io.BytesIO(image))\n",
    "        output_text = pytesseract.image_to_string(im, lang='eng')\n",
    "        image_text.append(output_text)\n",
    "    return image_text\n",
    "\n",
    "\n",
    "path ='/home/de-admin/Blob_Company_House/administratorsprogress/pdf/02374461_annual-returns_2017-05-01_DOWNLOADED.pdf'\n",
    "#path = '/home/de-admin/VMShare2/Data_Test1.pdf'\n",
    "images = pdf_covert(path)\n",
    "text = ocr_converted_pdf(images)\n",
    "\n",
    "print(text)\n"
   ]
  },
  {
   "cell_type": "code",
   "execution_count": 2,
   "metadata": {},
   "outputs": [
    {
     "name": "stdout",
     "output_type": "stream",
     "text": [
      "['companies', 'house', 'confirmation', 'statement', 'company', 'name', 'business', 'reports', 'and', 'research', 'limited', 'received', 'for', 'ﬁling', 'in', 'electronic', 'format', 'on', 'company', 'name', 'business', 'reports', 'and', 'research', 'limited', 'company', 'number', 'conﬁrmation', 'statement', 'date', 'electronically', 'filed', 'document', 'for', 'company', 'number', 'page', 'of', 'capital', 'share', 'capital', 'class', 'of', 'shares', 'ordinary', 'number', 'allotted', 'currency', 'gbp', 'aggregate', 'nominal', 'value', 'prescribed', 'particulars', 'ordinary', 'shares', 'with', 'voting', 'rights', 'statement', 'of', 'capital', 'totals', 'currency', 'gbp', 'total', 'number', 'of', 'shares', 'total', 'aggregate', 'nominal', 'value', 'total', 'aggregate', 'amount', 'unpaid', 'electronically', 'filed', 'document', 'for', 'company', 'number', 'page', 'with', 'significant', 'control', 'psc', 'psc', 'notifications', 'notiﬁcation', 'details', 'date', 'that', 'person', 'became', 'registrable', 'name', 'mr', 'malcolm', 'lindsay', 'rolfe', 'service', 'address', 'recorded', 'as', 'companys', 'registered', 'ofﬁce', 'countrystate', 'usually', 'england', 'resident', 'date', 'of', 'birth', 'nationality', 'british', 'nature', 'of', 'control', 'the', 'person', 'holds', 'directly', 'or', 'indirectly', 'or', 'more', 'of', 'the', 'shares', 'in', 'the', 'company', 'electronically', 'filed', 'document', 'for', 'company', 'number', 'page', 'statement', 'i', 'conﬁrm', 'that', 'all', 'information', 'required', 'to', 'be', 'delivered', 'by', 'the', 'company', 'to', 'the', 'registrar', 'in', 'relation', 'to', 'the', 'conﬁrmation', 'period', 'concerned', 'either', 'has', 'been', 'delivered', 'or', 'is', 'being', 'delivered', 'at', 'the', 'same', 'time', 'as', 'the', 'conﬁrmation', 'statement', 'electronically', 'filed', 'document', 'for', 'company', 'number', 'page', 'authenticated', 'this', 'form', 'was', 'authorised', 'by', 'one', 'of', 'the', 'following', 'director', 'secretary', 'person', 'authorised', 'charity', 'commission', 'receiver', 'and', 'manager', 'clc', 'manager', 'judicial', 'factor', 'end', 'of', 'electronically', 'filed', 'document', 'for', 'company', 'number', 'page']\n"
     ]
    }
   ],
   "source": [
    "#Function to Clean the Text\n",
    "def clean_text(pdf_text):\n",
    "    import string\n",
    "    a =[]\n",
    "    for t in text:\n",
    "        lower_case = t.lower()\n",
    "        lower_case = lower_case.replace(\"\\n\", \" \")\n",
    "        translator = str.maketrans('','',string.punctuation)\n",
    "        a.append(lower_case.translate(translator))\n",
    "        #print(a)\n",
    "        join_a=[]    \n",
    "    join_a =','.join(a) \n",
    "    clean_text_split= join_a.split()\n",
    "    clean_text_split= [x for x in clean_text_split if not any(x1.isdigit() for x1 in x)]\n",
    "    return(clean_text_split)\n",
    "print(clean_text(text))"
   ]
  },
  {
   "cell_type": "code",
   "execution_count": null,
   "metadata": {},
   "outputs": [],
   "source": []
  }
 ],
 "metadata": {
  "kernelspec": {
   "display_name": "Python (python3)",
   "language": "python",
   "name": "python3"
  },
  "language_info": {
   "codemirror_mode": {
    "name": "ipython",
    "version": 3
   },
   "file_extension": ".py",
   "mimetype": "text/x-python",
   "name": "python",
   "nbconvert_exporter": "python",
   "pygments_lexer": "ipython3",
   "version": "3.5.5"
  }
 },
 "nbformat": 4,
 "nbformat_minor": 2
}
