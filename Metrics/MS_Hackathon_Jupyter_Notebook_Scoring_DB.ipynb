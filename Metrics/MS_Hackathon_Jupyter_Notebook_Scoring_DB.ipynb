{
 "cells": [
  {
   "cell_type": "code",
   "execution_count": 1,
   "metadata": {},
   "outputs": [],
   "source": [
    "import pymongo as py\n",
    "import os"
   ]
  },
  {
   "cell_type": "code",
   "execution_count": 2,
   "metadata": {},
   "outputs": [],
   "source": [
    "client = py.MongoClient('mongodb://cosmo-feynman:4rDaE4LwLhwtwKCRIID7BV42Dpz9JOcj3H8kTDUqDmDbkmJiW4HqcGmktibeGWdAkFE5ZE8bQPvR1EncGLSiGA==@cosmo-feynman.documents.azure.com:10255/?ssl=true&replicaSet=globaldb')\n",
    "db = client.ch\n"
   ]
  },
  {
   "cell_type": "code",
   "execution_count": 3,
   "metadata": {},
   "outputs": [
    {
     "name": "stdout",
     "output_type": "stream",
     "text": [
      "score 0 {'neg_ratio': -0.06607929515418502, 'pos_ratio': 0.933920704845815}\n",
      "score 9 {'neg_ratio': -0.034482758620689655, 'pos_ratio': 0.9655172413793104}\n",
      "score 10 {'neg_ratio': -0.014705882352941176, 'pos_ratio': 0.9816176470588235}\n",
      "score 11 {'neg_ratio': -0.017094017094017096, 'pos_ratio': 0.9829059829059829}\n",
      "score 12 {'neg_ratio': -0.035398230088495575, 'pos_ratio': 0.9646017699115044}\n",
      "score 13 {'neg_ratio': 0.0, 'pos_ratio': 0.9464285714285714}\n",
      "score 14 {'neg_ratio': -0.11729253592953176, 'pos_ratio': 0.8799258229021789}\n",
      "score 15 {'neg_ratio': -0.08808290155440414, 'pos_ratio': 0.9093264248704663}\n",
      "score 16 {'neg_ratio': -0.05603448275862069, 'pos_ratio': 0.9439655172413793}\n",
      "score 17 {'neg_ratio': -0.03125, 'pos_ratio': 0.96875}\n",
      "score 18 {'neg_ratio': -0.07234042553191489, 'pos_ratio': 0.9191489361702128}\n",
      "score 19 {'neg_ratio': -0.05, 'pos_ratio': 0.9333333333333333}\n",
      "score 20 {'neg_ratio': -0.05045871559633028, 'pos_ratio': 0.9472477064220184}\n",
      "score 21 {'neg_ratio': 0, 'pos_ratio': 0}\n",
      "score 22 {'neg_ratio': -0.012345679012345678, 'pos_ratio': 0.9876543209876543}\n",
      "score 23 {'neg_ratio': -0.10294117647058823, 'pos_ratio': 0.8823529411764706}\n",
      "score 24 {'neg_ratio': 0, 'pos_ratio': 0}\n",
      "score 25 {'neg_ratio': -0.017543859649122806, 'pos_ratio': 0.9824561403508771}\n",
      "score 26 {'neg_ratio': -0.056555269922879174, 'pos_ratio': 0.9434447300771208}\n",
      "score 27 {'neg_ratio': -0.0273972602739726, 'pos_ratio': 0.9726027397260274}\n",
      "score 28 {'neg_ratio': -0.1094224924012158, 'pos_ratio': 0.878419452887538}\n",
      "score 29 {'neg_ratio': -0.07086614173228346, 'pos_ratio': 0.9291338582677166}\n",
      "score 30 {'neg_ratio': -0.13245033112582782, 'pos_ratio': 0.8543046357615894}\n",
      "score 31 {'neg_ratio': -0.05309734513274336, 'pos_ratio': 0.9469026548672567}\n",
      "score 32 {'neg_ratio': 0, 'pos_ratio': 0}\n",
      "score 33 {'neg_ratio': -0.02976190476190476, 'pos_ratio': 0.9702380952380952}\n",
      "score 34 {'neg_ratio': -0.03508771929824561, 'pos_ratio': 0.9649122807017544}\n",
      "score 35 {'neg_ratio': 0, 'pos_ratio': 0}\n",
      "score 36 {'neg_ratio': -0.02197802197802198, 'pos_ratio': 0.978021978021978}\n",
      "score 37 {'neg_ratio': -0.05154639175257732, 'pos_ratio': 0.9484536082474226}\n",
      "score 38 {'neg_ratio': -0.017391304347826087, 'pos_ratio': 0.9826086956521739}\n",
      "score 39 {'neg_ratio': -0.08098591549295775, 'pos_ratio': 0.9190140845070423}\n",
      "score 40 {'neg_ratio': -0.06299212598425197, 'pos_ratio': 0.937007874015748}\n",
      "score 41 {'neg_ratio': -0.0502092050209205, 'pos_ratio': 0.9456066945606695}\n",
      "score 42 {'neg_ratio': -0.017391304347826087, 'pos_ratio': 0.9826086956521739}\n",
      "score 43 {'neg_ratio': -0.06324110671936758, 'pos_ratio': 0.9209486166007905}\n",
      "score 44 {'neg_ratio': -0.05319148936170213, 'pos_ratio': 0.9361702127659575}\n",
      "score 45 {'neg_ratio': -0.0914826498422713, 'pos_ratio': 0.8958990536277602}\n",
      "score 46 {'neg_ratio': -0.08680555555555555, 'pos_ratio': 0.9131944444444444}\n",
      "score 47 {'neg_ratio': -0.09302325581395349, 'pos_ratio': 0.8953488372093024}\n",
      "score 48 {'neg_ratio': -0.06872852233676977, 'pos_ratio': 0.9312714776632303}\n",
      "score 49 {'neg_ratio': -0.017391304347826087, 'pos_ratio': 0.9826086956521739}\n",
      "score 50 {'neg_ratio': -0.02531645569620253, 'pos_ratio': 0.9746835443037974}\n",
      "score 51 {'neg_ratio': -0.09282700421940929, 'pos_ratio': 0.8945147679324894}\n",
      "score 52 {'neg_ratio': -0.053003533568904596, 'pos_ratio': 0.9434628975265018}\n",
      "score 53 {'neg_ratio': -0.034782608695652174, 'pos_ratio': 0.9652173913043478}\n",
      "score 54 {'neg_ratio': -0.0635593220338983, 'pos_ratio': 0.9364406779661016}\n",
      "score 55 {'neg_ratio': -0.05017921146953405, 'pos_ratio': 0.9498207885304659}\n"
     ]
    }
   ],
   "source": [
    "import enchant\n",
    "import string\n",
    "\n",
    "def clean_text(pdf_text):\n",
    "    clean_text_split =[]\n",
    "    a =[]\n",
    "    for t in pdf_text:\n",
    "        lower_case = t.lower()\n",
    "        lower_case = lower_case.replace(\"\\n\", \" \")\n",
    "        translator = str.maketrans('','',string.punctuation)\n",
    "        a.append(lower_case.translate(translator))\n",
    "        clean_text_split= [x for x in a if not any(x1.isdigit() for x1 in x)]\n",
    "    return clean_text_split\n",
    "\n",
    "\n",
    "def ocr_score(test_text):\n",
    "    list = clean_text(test_text)\n",
    "    score1 =0\n",
    "    score2=0\n",
    "    positive_ratio =0\n",
    "    negative_ratio=0\n",
    "    d = enchant.Dict('en_GB')\n",
    "    for i in range(0, len(list)):\n",
    "        if list[i] != '' :\n",
    "            if d.check(list[i])==True:\n",
    "                score1= score1 +1\n",
    "                positive_ratio = score1/len(list)\n",
    "            elif d.check(list[i])==False:\n",
    "                score2 =score2 -1\n",
    "            negative_ratio = score2/len(list)\n",
    "            \n",
    "    return {'pos_ratio': positive_ratio, 'neg_ratio':negative_ratio}\n",
    "   #connects to cosmos db\n",
    "docs_of_interest = db.docs.find(\n",
    "        {\n",
    "            'filetype': 'pdf',\n",
    "            'doctype': 'annual-returns',\n",
    "            'extracted_hand': {'$exists': True}\n",
    "        }\n",
    "    )\n",
    "# only scores 55 documents in db\n",
    "for i, k in enumerate(docs_of_interest):\n",
    "    if i > 55:\n",
    "        break\n",
    "    if k['extracted_hand'] != '':\n",
    "        text_data =k['extracted_hand']\n",
    "        clean_data =clean_text(text_data)\n",
    "        if clean_data != None:\n",
    "            print('score',i, ocr_score(clean_data))\n",
    "\n",
    "#returns dictionary to be updated on cosmos db        \n"
   ]
  },
  {
   "cell_type": "code",
   "execution_count": null,
   "metadata": {},
   "outputs": [],
   "source": []
  }
 ],
 "metadata": {
  "kernelspec": {
   "display_name": "Python (python3)",
   "language": "python",
   "name": "python3"
  },
  "language_info": {
   "codemirror_mode": {
    "name": "ipython",
    "version": 3
   },
   "file_extension": ".py",
   "mimetype": "text/x-python",
   "name": "python",
   "nbconvert_exporter": "python",
   "pygments_lexer": "ipython3",
   "version": "3.5.5"
  }
 },
 "nbformat": 4,
 "nbformat_minor": 2
}
